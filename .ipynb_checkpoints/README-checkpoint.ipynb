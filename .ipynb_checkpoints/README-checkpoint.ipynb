{
 "cells": [
  {
   "cell_type": "markdown",
   "metadata": {},
   "source": [
    "# Housing Prices in Iowa\n",
    "_Author: J Hall_"
   ]
  },
  {
   "cell_type": "code",
   "execution_count": null,
   "metadata": {},
   "outputs": [],
   "source": [
    "# Can import here"
   ]
  },
  {
   "cell_type": "markdown",
   "metadata": {},
   "source": [
    "## Table of Contents"
   ]
  },
  {
   "cell_type": "markdown",
   "metadata": {},
   "source": [
    "## Contents\n",
    "[_Credit to: Tim Dwyer_](https://git.generalassemb.ly/DSI-US-9/style_guide)\n",
    "\n",
    "1. [Problem statement](#Problem-statement)\n",
    "2. [Description of data](#Description-of-data)\n",
    "3. [Model performance on training/ test data](#Model-performance-on-training-and-test-data)\n",
    "4. [Primary findings/conclusions/recommendations](#Primary-findings,-conclusions,-recommendations)\n",
    "5. [Next steps](#Next-steps)\n",
    "6. [Presentation](#Presentation-Prompt)\n",
    "\n",
    "\n",
    "### Problem statement\n",
    "    Zillow has become one of the top services to view real estate and price shop before buying.  The value that Zillow provides is information, and realistic expectations as to what is affordable, and where homebuyers should look for the best value.  Zillow is enjoying market dominance at the moment, but online audiences can be fickle, and sensitive when it comes to something as personal, emotional, and expensive as purchasing a home.  A streak of poor estimates and bad reviews could be enough to turn online audiences to Redfin or Trulia.\n",
    "    Zillow purchased 1,535 houses and sold 786 in the second quarter, representing sequential growth of 71% and 90%, respectively. From this activity, Zillow generated \\\\$249 million in Q2 revenue in its \"homes\" segment.***\n",
    "    \n",
    "    I aim to create a model that will accurately predict home prices with an 95% accuracy, which will not only provide a valuable service to our users, but will also indicate undervalued properties that would indicate good investments for Zillow. \n",
    "### Description of data\n",
    "    - REQUIRED: Size (samples & features)\n",
    "    - REQUIRED: Source (provide a link to the original source if possible, or describe how/where you acquired it)\n",
    "    - REQUIRED: Target (classification/regression/unsupervised)\n",
    "    - RECOMMENDED: Data dictionary (describe every feature in your data set, or at least those features that were prominent in your final model)\n",
    "    - Consider including a plot or two from your EDA\n",
    "### Model performance on training and test data\n",
    "    - Did you fit many models? Feel free to summarize some of your scores here.\n",
    "    - Consider useing a markdown table to make results easy to review.\n",
    "    - It should be clear which model you chose for production and why.\n",
    "### Primary findings, conclusions, recommendations\n",
    "    - These should follow from your project\n",
    "    - You should provide an answer to your problem statement\n",
    "### Next steps\n",
    "    - **Always** focus on the positive (it's not what you did wrong, it's what you look forward to improving).\n",
    "    - Is your model ready for production? Probably not, but you can comment on how it might get there.\n",
    "    - Does this project demonstrate skills that you think could be applied to similar problems?\n",
    "\n",
    "### Presentation Prompt\n",
    "Zillow will often indicate \"Estimated home price\" to inform users about the market rates of homes, even when they are not yet explicitly for sale. More accurate depictions of home values translates to more confidence in Zillow's product.\n",
    "\n",
    "You've been recently hired at Zillow and your first work assignment is to build a model that will make the best possible prediction of home values in Ames, Iowa (They reserve the more exciting cities for seasoned veterans, this is your opportunity to prove yoursel!). You will be making a presentation to Zillow's semi-technical staff about the process that led you to your final model and predictions.\n",
    "\n",
    "Some recommendations of what to include: compelling visuals, significant insights uncovered, noteable obstacles, description of the dataset, the most informative features, interpret coefficients, any features you engineered, any outside data used, description of scaling or regularization if used, any hyperparameter tuning, final model performance.\n"
   ]
  },
  {
   "cell_type": "markdown",
   "metadata": {},
   "source": [
    "1. [Exploratory Data Analysis](#Exploratory-Data-Analysis)\n",
    "    - [Target Variable Distribution](#Target-Variable-Distribution)\n",
    "    \n",
    "2. [Data Cleaning](#Data-Cleaning)"
   ]
  },
  {
   "cell_type": "code",
   "execution_count": null,
   "metadata": {},
   "outputs": [],
   "source": [
    "# or here...up to you!"
   ]
  },
  {
   "cell_type": "markdown",
   "metadata": {},
   "source": []
  },
  {
   "cell_type": "markdown",
   "metadata": {},
   "source": []
  },
  {
   "cell_type": "markdown",
   "metadata": {},
   "source": []
  },
  {
   "cell_type": "markdown",
   "metadata": {},
   "source": []
  },
  {
   "cell_type": "markdown",
   "metadata": {},
   "source": [
    "### Exploratory Data Analysis"
   ]
  },
  {
   "cell_type": "markdown",
   "metadata": {},
   "source": [
    "#### Target Variable Distribution"
   ]
  },
  {
   "cell_type": "markdown",
   "metadata": {},
   "source": []
  },
  {
   "cell_type": "markdown",
   "metadata": {},
   "source": []
  },
  {
   "cell_type": "markdown",
   "metadata": {},
   "source": []
  },
  {
   "cell_type": "markdown",
   "metadata": {},
   "source": []
  },
  {
   "cell_type": "markdown",
   "metadata": {},
   "source": []
  },
  {
   "cell_type": "markdown",
   "metadata": {},
   "source": []
  },
  {
   "cell_type": "markdown",
   "metadata": {},
   "source": [
    "### Data Cleaning"
   ]
  },
  {
   "cell_type": "markdown",
   "metadata": {},
   "source": []
  }
 ],
 "metadata": {
  "kernelspec": {
   "display_name": "Python 3",
   "language": "python",
   "name": "python3"
  },
  "language_info": {
   "codemirror_mode": {
    "name": "ipython",
    "version": 3
   },
   "file_extension": ".py",
   "mimetype": "text/x-python",
   "name": "python",
   "nbconvert_exporter": "python",
   "pygments_lexer": "ipython3",
   "version": "3.7.3"
  }
 },
 "nbformat": 4,
 "nbformat_minor": 2
}
