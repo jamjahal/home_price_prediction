{
 "cells": [
  {
   "cell_type": "markdown",
   "metadata": {},
   "source": [
    "## Production Model and Insights"
   ]
  },
  {
   "cell_type": "code",
   "execution_count": 41,
   "metadata": {},
   "outputs": [],
   "source": [
    "import pandas as pd\n",
    "import numpy as np\n",
    "import seaborn as sns\n",
    "import matplotlib.pyplot as plt\n",
    "from sklearn.linear_model import LinearRegression, LassoCV, RidgeCV\n",
    "from sklearn.preprocessing import PolynomialFeatures, PowerTransformer, StandardScaler\n",
    "from sklearn.model_selection import train_test_split, cross_val_score, cross_val_predict, GridSearchCV\n",
    "from sklearn import metrics\n",
    "from sklearn.linear_model import LinearRegression, LassoCV, RidgeCV\n",
    "from sklearn.preprocessing import PolynomialFeatures, PowerTransformer\n",
    "from housing_functions import *\n",
    "from sklearn.pipeline import Pipeline\n",
    "import statsmodels.api as sm\n",
    "from sklearn.decomposition import PCA\n",
    "from sklearn.ensemble import RandomForestClassifier\n",
    "\n",
    "\n",
    "%matplotlib inline"
   ]
  },
  {
   "cell_type": "code",
   "execution_count": 42,
   "metadata": {},
   "outputs": [
    {
     "name": "stderr",
     "output_type": "stream",
     "text": [
      "/Users/allanshomefolder/anaconda3/lib/python3.7/site-packages/sklearn/model_selection/_split.py:1978: FutureWarning: The default value of cv will change from 3 to 5 in version 0.22. Specify it explicitly to silence this warning.\n",
      "  warnings.warn(CV_WARNING, FutureWarning)\n"
     ]
    }
   ],
   "source": [
    "model = Pipeline(memory=None,\n",
    "         steps=[('pt',\n",
    "                 PowerTransformer(copy=True, method='yeo-johnson',\n",
    "                                  standardize=True)),\n",
    "                ('sc',\n",
    "                 StandardScaler(copy=True, with_mean=True, with_std=True)),\n",
    "                ('ls',\n",
    "                 LassoCV(alphas=None, copy_X=True, cv='warn', eps=0.001,\n",
    "                         fit_intercept=True, max_iter=1000, n_alphas=1,\n",
    "                         n_jobs=None, normalize=False, positive=False,\n",
    "                         precompute='auto', random_state=42, selection='cyclic',\n",
    "                         tol=0.0001, verbose=False))],\n",
    "         verbose=False)\n",
    "lasso = LassoCV(alphas=None, copy_X=True, cv='warn', eps=0.001,\n",
    "                         fit_intercept=True, max_iter=1000, n_alphas=1,\n",
    "                         n_jobs=None, normalize=False, positive=False,\n",
    "                         precompute='auto', random_state=42, selection='cyclic',\n",
    "                         tol=0.0001, verbose=False)\n",
    "lasso.fit(X_train,y_train)\n",
    "# import data\n",
    "train=pd.read_csv('../datasets/df_dummies_clean.csv')\n",
    "test=pd.read_csv('../datasets/test_clean.csv')"
   ]
  },
  {
   "cell_type": "code",
   "execution_count": 43,
   "metadata": {},
   "outputs": [
    {
     "name": "stderr",
     "output_type": "stream",
     "text": [
      "/Users/allanshomefolder/anaconda3/lib/python3.7/site-packages/sklearn/preprocessing/data.py:2863: RuntimeWarning: divide by zero encountered in log\n",
      "  loglike = -n_samples / 2 * np.log(x_trans.var())\n",
      "/Users/allanshomefolder/anaconda3/lib/python3.7/site-packages/numpy/core/_methods.py:195: RuntimeWarning: overflow encountered in multiply\n",
      "  x = um.multiply(x, x, out=x)\n",
      "/Users/allanshomefolder/anaconda3/lib/python3.7/site-packages/numpy/core/_methods.py:199: RuntimeWarning: overflow encountered in reduce\n",
      "  ret = umr_sum(x, axis, dtype, out, keepdims)\n",
      "/Users/allanshomefolder/anaconda3/lib/python3.7/site-packages/sklearn/model_selection/_split.py:1978: FutureWarning: The default value of cv will change from 3 to 5 in version 0.22. Specify it explicitly to silence this warning.\n",
      "  warnings.warn(CV_WARNING, FutureWarning)\n"
     ]
    }
   ],
   "source": [
    "features_7 = train.drop(['ms_subclass','saleprice'], axis=1).columns\n",
    "y=train['saleprice']\n",
    "X=train[features_7]\n",
    "# Test Train split\n",
    "\n",
    "X_train, X_test, y_train, y_test = train_test_split(X, y, random_state=42)\n",
    "\n",
    "model.fit(X_train, y_train)\n",
    "preds = model.predict(X_test)\n",
    "y = y_test\n",
    "resids = (y - preds)"
   ]
  },
  {
   "cell_type": "markdown",
   "metadata": {},
   "source": [
    "### Examine Residual Distrobution"
   ]
  },
  {
   "cell_type": "code",
   "execution_count": 44,
   "metadata": {
    "scrolled": false
   },
   "outputs": [
    {
     "data": {
      "image/png": "[encoded data removed]",
      "text/plain": [
       "<Figure size 432x288 with 1 Axes>"
      ]
     },
     "metadata": {
      "needs_background": "light"
     },
     "output_type": "display_data"
    }
   ],
   "source": [
    "plt.scatter(preds, resids)\n",
    "plt.axhline(0, color='red');"
   ]
  },
  {
   "cell_type": "markdown",
   "metadata": {},
   "source": [
    "#### The residuals appear to be homoskedastic and evenly distributed.\n",
    "- Although they are more dispersed as price increases."
   ]
  },
  {
   "cell_type": "code",
   "execution_count": 45,
   "metadata": {},
   "outputs": [
    {
     "name": "stdout",
     "output_type": "stream",
     "text": [
      " The MAE for the model is 15900.939495933973\n",
      " The SSE for the model is 256159760390.9499\n",
      " The MSE for the model is 499336764.89463896\n",
      " The RMSE for the model is 22345.844465909962\n",
      " The R2 for the model is 0.9210174443985094\n",
      " The MSLE for the model is 0.02417851836282846\n"
     ]
    }
   ],
   "source": [
    "print(f' The MAE for the model is {metrics.mean_absolute_error(y, preds)}')\n",
    "print(f' The SSE for the model is {sum(resids**2)}')\n",
    "print(f' The MSE for the model is {metrics.mean_squared_error(y, preds)}')\n",
    "print(f' The RMSE for the model is {np.sqrt(metrics.mean_squared_error(y, preds))}')\n",
    "print(f' The R2 for the model is {metrics.r2_score(y, preds)}')\n",
    "print(f' The MSLE for the model is {metrics.mean_squared_log_error(y, preds)}')\n"
   ]
  },
  {
   "cell_type": "markdown",
   "metadata": {},
   "source": [
    "## Reccomendations"
   ]
  },
  {
   "cell_type": "markdown",
   "metadata": {},
   "source": [
    "According to this model, the 5 best features for higher price of a home are:\n",
    "1. Ground Living Area\n",
    "2. Overall Quality\n",
    "3. Year Built\n",
    "4. Overall Condition\n",
    "5. Total Basement Square Feet\n",
    "\n",
    "This tells us that the best thing a homeowner can do to increase the value of their house is add on to their house, increasing their square footage.  Year of remodel or addition also had an large impact on the price, coming in at the 8th on the list of positive features.\n",
    "\n",
    "The neighborhood with the highest priced houses was Northridge Heights, followed closely by Crawford, Stone Brook, and Northridge Heights.  \n",
    "\n",
    "The top 5 features that have a negative impact on price are:\n",
    "1. Home functionality - salvage only\n",
    "2. Ms_zoning - Commercial\n",
    "3. Kitchen quality - good\n",
    "4. Gravity heating\n",
    "5. Kitchen quality - Typical / Average\n",
    "\n",
    "This tells us that houses with average and good kitchens are seen as less valuable than houses that have newly rennovated kitchens.  Many homebuyers see ronvating a kitchen as a way to improve the resale value of their house, so this makes sense that a full kitchen renovation for a poor quality kitchen that could actually be found appealing to home buyers over an average kitchen that may only need an upgrade.\n",
    "\n",
    "While gravity furnaces can work nearly forever and have very few mechanical problems, they are incredibly expensive to operate and take up a lot of space. Due to the sheer volume of ducts needed to distribute air throughout your home and the cost of heating enough air to ensure it rises properly, you’re dealing with a heating efficiency of 50% or lower.*\n",
    "\n",
    "Living in a commercial zone is unapealing in Ames, most likely because there are plenty of neighborhoods farther from commercial zones and assumed polution as well as restrictions on what you can do with your home.**\n",
    "\n",
    "I feel confident that this model would work well in other towns to a certain extent given a similar dataset.  Some elements that would not be taken into account by this model are urban communities that have different values for homebuyers.  \n",
    "\n",
    "A datapoint that would improve the model would be school districts an quality metrics related to them.  Some of that information is baked into the neighborhood metric given in this dataset, but it would be helpful to see the effect that schools have independent from neighborhoods.\n",
    "\n",
    "*https://www.carneyphc.com/blog/heating/what-is-a-gravity-furnace/\n",
    "** https://www.cityofames.org/home/showdocument?id=662\n"
   ]
  },
  {
   "cell_type": "markdown",
   "metadata": {},
   "source": [
    "<script id=\"ers_chart_widget\"\n",
    "    src=\"https://www.ers.usda.gov/scripts/widget_charts_of_note.js?key=9cezBjDkRoGuSQKGwWwlSaYiCHn1K8G2TbP2KFru&desc=yes&cId=80708\"\n",
    "    type=\"text/javascript\">\n",
    "</script> \n",
    "<div id=\"ers_widget_container\"> </div>"
   ]
  }
 ],
 "metadata": {
  "kernelspec": {
   "display_name": "Python 3",
   "language": "python",
   "name": "python3"
  },
  "language_info": {
   "codemirror_mode": {
    "name": "ipython",
    "version": 3
   },
   "file_extension": ".py",
   "mimetype": "text/x-python",
   "name": "python",
   "nbconvert_exporter": "python",
   "pygments_lexer": "ipython3",
   "version": "3.7.3"
  }
 },
 "nbformat": 4,
 "nbformat_minor": 2
}
